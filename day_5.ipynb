{
 "cells": [
  {
   "cell_type": "code",
   "execution_count": 18,
   "metadata": {},
   "outputs": [],
   "source": [
    "import datetime as dt\n",
    "from re import I\n",
    "import numpy as np\n",
    "import pandas as pd\n",
    "import matplotlib.pyplot as plt"
   ]
  },
  {
   "cell_type": "code",
   "execution_count": 19,
   "metadata": {},
   "outputs": [],
   "source": [
    "# read in the data\n",
    "def read_data():\n",
    "    data = pd.read_csv('final_answer.csv', delimiter='\\t')\n",
    "    return data\n",
    "\n",
    "data = read_data()"
   ]
  },
  {
   "cell_type": "code",
   "execution_count": 20,
   "metadata": {},
   "outputs": [
    {
     "name": "stdout",
     "output_type": "stream",
     "text": [
      "                                                 NTA  Average Total Savings  \\\n",
      "0                  Battery Park City-Lower Manhattan          469890.796667   \n",
      "1                                     Bushwick South           26140.455000   \n",
      "2           Carroll Gardens-Columbia Street-Red Hook           24337.390000   \n",
      "3                                      College Point           17159.372857   \n",
      "4                                Crown Heights North            4036.298889   \n",
      "5   DUMBO-Vinegar Hill-Downtown Brooklyn-Boerum Hill           59950.340000   \n",
      "6                                      East New York           48433.093333   \n",
      "7                                  East Williamsburg           13990.626364   \n",
      "8                                         Greenpoint            9753.649286   \n",
      "9               Hunters Point-Sunnyside-West Maspeth           23931.398933   \n",
      "10                                       Hunts Point           39246.016154   \n",
      "11                                    Manhattanville            2760.888889   \n",
      "12                                           Maspeth            6658.283333   \n",
      "13                            Mott Haven-Port Morris           17843.937857   \n",
      "14          Queensbridge-Ravenswood-Long Island City           61830.770625   \n",
      "15                                          Steinway           11227.155714   \n",
      "16                                  Sunset Park West           14316.976875   \n",
      "17                        park-cemetery-etc-Brooklyn           14327.419333   \n",
      "\n",
      "    Total Jobs    colors  \n",
      "0            9  0.088891  \n",
      "1           10  0.560297  \n",
      "2           11  0.280579  \n",
      "3            7  0.425638  \n",
      "4            9  0.960700  \n",
      "5           10  0.645507  \n",
      "6            9  0.168722  \n",
      "7           11  0.381095  \n",
      "8           14  0.288338  \n",
      "9           75  0.866546  \n",
      "10          13  0.693619  \n",
      "11           9  0.296980  \n",
      "12           9  0.767260  \n",
      "13          14  0.376652  \n",
      "14          16  0.127731  \n",
      "15           7  0.454577  \n",
      "16          48  0.173668  \n",
      "17          15  0.440410  \n"
     ]
    },
    {
     "data": {
      "image/png": "[encoded data removed]",
      "text/plain": [
       "<Figure size 432x288 with 1 Axes>"
      ]
     },
     "metadata": {
      "needs_background": "light"
     },
     "output_type": "display_data"
    }
   ],
   "source": [
    "###  Day 5 - 1  ###\n",
    "# scatter plot of jobs created versus average savings\n",
    "N = 18\n",
    "\n",
    "x = (data[\"Average Total Savings\"])\n",
    "y = (data[\"Total Jobs\"])\n",
    "colors = np.random.rand(N)\n",
    "data['colors']=(colors)\n",
    "print(data)\n",
    "# area = (30 * np.random.rand(N))**2  # 0 to 15 point radii\n",
    "\n",
    "plt.scatter(x, y, c=colors, alpha=0.5)\n",
    "plt.show()"
   ]
  },
  {
   "cell_type": "code",
   "execution_count": 45,
   "metadata": {},
   "outputs": [
    {
     "data": {
      "image/png": "[encoded data removed]",
      "text/plain": [
       "<Figure size 432x288 with 1 Axes>"
      ]
     },
     "metadata": {
      "needs_background": "light"
     },
     "output_type": "display_data"
    }
   ],
   "source": [
    "\n",
    "fig, ax = plt.subplots()\n",
    "x_max = data[\"Average Total Savings\"].max()\n",
    "y_max = data[\"Total Jobs\"].max()\n",
    "\n",
    "ax.axis([1, (x_max+10**5), 1, (y_max+5)])\n",
    "# ax.loglog()\n",
    "ax.set_xscale('log')\n",
    "plt.scatter(x, y, c=colors, alpha=0.5)\n",
    "plt.show()"
   ]
  }
 ],
 "metadata": {
  "kernelspec": {
   "display_name": "Python 3.8.8 ('base')",
   "language": "python",
   "name": "python3"
  },
  "language_info": {
   "codemirror_mode": {
    "name": "ipython",
    "version": 3
   },
   "file_extension": ".py",
   "mimetype": "text/x-python",
   "name": "python",
   "nbconvert_exporter": "python",
   "pygments_lexer": "ipython3",
   "version": "3.8.8"
  },
  "orig_nbformat": 4,
  "vscode": {
   "interpreter": {
    "hash": "ad2bdc8ecc057115af97d19610ffacc2b4e99fae6737bb82f5d7fb13d2f2c186"
   }
  }
 },
 "nbformat": 4,
 "nbformat_minor": 2
}
