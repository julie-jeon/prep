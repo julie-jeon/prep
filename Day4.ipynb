{
 "cells": [
  {
   "cell_type": "code",
   "execution_count": 3,
   "metadata": {},
   "outputs": [],
   "source": [
    "import datetime as dt\n",
    "from re import I\n",
    "import numpy as np\n",
    "import pandas as pd\n",
    "import matplotlib.pyplot as plt"
   ]
  },
  {
   "cell_type": "code",
   "execution_count": 25,
   "metadata": {},
   "outputs": [
    {
     "name": "stdout",
     "output_type": "stream",
     "text": [
      "1. How many different companies are represented in the data set?\n",
      "439\n"
     ]
    }
   ],
   "source": [
    "# Milestone Action Items\n",
    "# Download the data set about Value of Energy Cost Saving Program for businesses in New York City (under the \"Export\" option, there is a way to retrieve a CSV file). Answer the following questions.\n",
    "\n",
    "# How many different companies are represented in the data set?\n",
    "# What is the total number of jobs created for businesses in Queens?\n",
    "# How many different unique email domains names are there in the data set?\n",
    "# Considering only NTAs with at least 5 listed businesses, what is the average total savings and the total jobs created for each NTA?\n",
    "# Save your result for the previous question as a CSV file.v\n",
    "\n",
    "def read_data():\n",
    "    data = pd.read_csv('Value_of_Energy_Cost_Savings_Program_Savings_for_Businesses_-_FY2020.csv')\n",
    "    return data\n",
    "\n",
    "data = read_data()\n",
    "#print(data)\n",
    "data['Company Name']=data['Company Name'].str.upper()\n",
    "data.groupby('Company Name')\n",
    "counts = data['Company Name'].nunique()\n",
    "print(\"1. How many different companies are represented in the data set?\")\n",
    "print(counts)"
   ]
  },
  {
   "cell_type": "code",
   "execution_count": 48,
   "metadata": {},
   "outputs": [
    {
     "name": "stdout",
     "output_type": "stream",
     "text": [
      "What is the total number of jobs created for businesses in Queens?\n",
      "5\n"
     ]
    }
   ],
   "source": [
    "data['City'].str.upper()\n",
    "data['isQueens'] = np.where(data['City'].str.contains(\"QUEENS\"),\n",
    "                                'yes', '')\n",
    "\n",
    "data.to_csv('out.txt', sep='\\t', index=False)\n",
    "queens_count = data.loc[data['isQueens'] == \"yes\"]\n",
    "queens_count = queens_count.reset_index()\n",
    "\n",
    "\n",
    "print(\"What is the total number of jobs created for businesses in Queens?\")\n",
    "print(queens_count['isQueens'].count())"
   ]
  },
  {
   "cell_type": "code",
   "execution_count": 50,
   "metadata": {},
   "outputs": [
    {
     "ename": "AttributeError",
     "evalue": "'Series' object has no attribute 'partition'",
     "output_type": "error",
     "traceback": [
      "\u001b[1;31m---------------------------------------------------------------------------\u001b[0m",
      "\u001b[1;31mAttributeError\u001b[0m                            Traceback (most recent call last)",
      "\u001b[1;32m<ipython-input-50-8eef72fce23f>\u001b[0m in \u001b[0;36m<module>\u001b[1;34m\u001b[0m\n\u001b[0;32m      2\u001b[0m \u001b[1;33m\u001b[0m\u001b[0m\n\u001b[0;32m      3\u001b[0m \u001b[1;31m# part after the separator \"@\"\u001b[0m\u001b[1;33m\u001b[0m\u001b[1;33m\u001b[0m\u001b[1;33m\u001b[0m\u001b[0m\n\u001b[1;32m----> 4\u001b[1;33m \u001b[0mstring_col\u001b[0m\u001b[1;33m.\u001b[0m\u001b[0mpartition\u001b[0m\u001b[1;33m(\u001b[0m\u001b[1;34m\"@\"\u001b[0m\u001b[1;33m)\u001b[0m\u001b[1;33m[\u001b[0m\u001b[1;36m2\u001b[0m\u001b[1;33m]\u001b[0m\u001b[1;33m\u001b[0m\u001b[1;33m\u001b[0m\u001b[0m\n\u001b[0m",
      "\u001b[1;32mc:\\ProgramData\\Anaconda3\\lib\\site-packages\\pandas\\core\\generic.py\u001b[0m in \u001b[0;36m__getattr__\u001b[1;34m(self, name)\u001b[0m\n\u001b[0;32m   5463\u001b[0m             \u001b[1;32mif\u001b[0m \u001b[0mself\u001b[0m\u001b[1;33m.\u001b[0m\u001b[0m_info_axis\u001b[0m\u001b[1;33m.\u001b[0m\u001b[0m_can_hold_identifiers_and_holds_name\u001b[0m\u001b[1;33m(\u001b[0m\u001b[0mname\u001b[0m\u001b[1;33m)\u001b[0m\u001b[1;33m:\u001b[0m\u001b[1;33m\u001b[0m\u001b[1;33m\u001b[0m\u001b[0m\n\u001b[0;32m   5464\u001b[0m                 \u001b[1;32mreturn\u001b[0m \u001b[0mself\u001b[0m\u001b[1;33m[\u001b[0m\u001b[0mname\u001b[0m\u001b[1;33m]\u001b[0m\u001b[1;33m\u001b[0m\u001b[1;33m\u001b[0m\u001b[0m\n\u001b[1;32m-> 5465\u001b[1;33m             \u001b[1;32mreturn\u001b[0m \u001b[0mobject\u001b[0m\u001b[1;33m.\u001b[0m\u001b[0m__getattribute__\u001b[0m\u001b[1;33m(\u001b[0m\u001b[0mself\u001b[0m\u001b[1;33m,\u001b[0m \u001b[0mname\u001b[0m\u001b[1;33m)\u001b[0m\u001b[1;33m\u001b[0m\u001b[1;33m\u001b[0m\u001b[0m\n\u001b[0m\u001b[0;32m   5466\u001b[0m \u001b[1;33m\u001b[0m\u001b[0m\n\u001b[0;32m   5467\u001b[0m     \u001b[1;32mdef\u001b[0m \u001b[0m__setattr__\u001b[0m\u001b[1;33m(\u001b[0m\u001b[0mself\u001b[0m\u001b[1;33m,\u001b[0m \u001b[0mname\u001b[0m\u001b[1;33m:\u001b[0m \u001b[0mstr\u001b[0m\u001b[1;33m,\u001b[0m \u001b[0mvalue\u001b[0m\u001b[1;33m)\u001b[0m \u001b[1;33m->\u001b[0m \u001b[1;32mNone\u001b[0m\u001b[1;33m:\u001b[0m\u001b[1;33m\u001b[0m\u001b[1;33m\u001b[0m\u001b[0m\n",
      "\u001b[1;31mAttributeError\u001b[0m: 'Series' object has no attribute 'partition'"
     ]
    }
   ],
   "source": [
    "# removing null values if any to avoid errors\n",
    "data.dropna(how ='all', inplace = True)\n",
    "\n",
    "#string_col = data['company email'].astype(str)\n",
    "# splitting at ', ' into Data frame\n",
    "new = data[\"company email\"].str.partition(\"@\", True)\n",
    "\n",
    "\n",
    "# part after the separator \"@\"\n",
    "string_col = string_col.partition(\"@\")[2]"
   ]
  },
  {
   "cell_type": "code",
   "execution_count": 13,
   "metadata": {},
   "outputs": [
    {
     "name": "stdout",
     "output_type": "stream",
     "text": [
      "                                        Company Name  company contact  \\\n",
      "NTA                                                                     \n",
      "Midwood                                            3                3   \n",
      "SoHo-TriBeCa-Civic Center-Little Italy             5                5   \n",
      "Battery Park City-Lower Manhattan                  9                9   \n",
      "Sunset Park West                                  48               48   \n",
      "Hunters Point-Sunnyside-West Maspeth              75               75   \n",
      "...                                              ...              ...   \n",
      "Midtown-Midtown South                              2                2   \n",
      "Williamsburg                                       1                1   \n",
      "Central Harlem North-Polo Grounds                  1                1   \n",
      "Highbridge                                         1                1   \n",
      "Co-op City                                         1                1   \n",
      "\n",
      "                                        company email  company phone  Address  \\\n",
      "NTA                                                                             \n",
      "Midwood                                             3              3        3   \n",
      "SoHo-TriBeCa-Civic Center-Little Italy              3              5        5   \n",
      "Battery Park City-Lower Manhattan                   3              9        9   \n",
      "Sunset Park West                                   47             48       48   \n",
      "Hunters Point-Sunnyside-West Maspeth               75             75       75   \n",
      "...                                               ...            ...      ...   \n",
      "Midtown-Midtown South                               2              2        2   \n",
      "Williamsburg                                        1              1        1   \n",
      "Central Harlem North-Polo Grounds                   1              1        1   \n",
      "Highbridge                                          1              1        1   \n",
      "Co-op City                                          1              1        1   \n",
      "\n",
      "                                        City  State  Postcode  Industry  \\\n",
      "NTA                                                                       \n",
      "Midwood                                    3      3         3         3   \n",
      "SoHo-TriBeCa-Civic Center-Little Italy     5      5         5         5   \n",
      "Battery Park City-Lower Manhattan          9      9         9         9   \n",
      "Sunset Park West                          48     48        48        48   \n",
      "Hunters Point-Sunnyside-West Maspeth      75     75        75        75   \n",
      "...                                      ...    ...       ...       ...   \n",
      "Midtown-Midtown South                      2      2         2         2   \n",
      "Williamsburg                               1      1         1         1   \n",
      "Central Harlem North-Polo Grounds          1      1         1         1   \n",
      "Highbridge                                 1      1         1         1   \n",
      "Co-op City                                 1      1         1         1   \n",
      "\n",
      "                                        Industry descr  ...  Total Savings  \\\n",
      "NTA                                                     ...                  \n",
      "Midwood                                              2  ...              3   \n",
      "SoHo-TriBeCa-Civic Center-Little Italy               4  ...              5   \n",
      "Battery Park City-Lower Manhattan                    4  ...              9   \n",
      "Sunset Park West                                    48  ...             48   \n",
      "Hunters Point-Sunnyside-West Maspeth                75  ...             75   \n",
      "...                                                ...  ...            ...   \n",
      "Midtown-Midtown South                                2  ...              2   \n",
      "Williamsburg                                         1  ...              1   \n",
      "Central Harlem North-Polo Grounds                    1  ...              1   \n",
      "Highbridge                                           1  ...              1   \n",
      "Co-op City                                           1  ...              1   \n",
      "\n",
      "                                        Savings from beginning receiving benefits  \\\n",
      "NTA                                                                                 \n",
      "Midwood                                                                         3   \n",
      "SoHo-TriBeCa-Civic Center-Little Italy                                          5   \n",
      "Battery Park City-Lower Manhattan                                               9   \n",
      "Sunset Park West                                                               48   \n",
      "Hunters Point-Sunnyside-West Maspeth                                           75   \n",
      "...                                                                           ...   \n",
      "Midtown-Midtown South                                                           2   \n",
      "Williamsburg                                                                    1   \n",
      "Central Harlem North-Polo Grounds                                               1   \n",
      "Highbridge                                                                      1   \n",
      "Co-op City                                                                      1   \n",
      "\n",
      "                                        Borough  Latitude  Longitude  \\\n",
      "NTA                                                                    \n",
      "Midwood                                       3         3          3   \n",
      "SoHo-TriBeCa-Civic Center-Little Italy        5         5          5   \n",
      "Battery Park City-Lower Manhattan             9         9          9   \n",
      "Sunset Park West                             48        48         48   \n",
      "Hunters Point-Sunnyside-West Maspeth         75        75         75   \n",
      "...                                         ...       ...        ...   \n",
      "Midtown-Midtown South                         2         2          2   \n",
      "Williamsburg                                  1         1          1   \n",
      "Central Harlem North-Polo Grounds             1         1          1   \n",
      "Highbridge                                    1         1          1   \n",
      "Co-op City                                    1         1          1   \n",
      "\n",
      "                                        Community Board  Council District  \\\n",
      "NTA                                                                         \n",
      "Midwood                                               3                 3   \n",
      "SoHo-TriBeCa-Civic Center-Little Italy                5                 5   \n",
      "Battery Park City-Lower Manhattan                     9                 9   \n",
      "Sunset Park West                                     48                48   \n",
      "Hunters Point-Sunnyside-West Maspeth                 75                75   \n",
      "...                                                 ...               ...   \n",
      "Midtown-Midtown South                                 2                 2   \n",
      "Williamsburg                                          1                 1   \n",
      "Central Harlem North-Polo Grounds                     1                 1   \n",
      "Highbridge                                            1                 1   \n",
      "Co-op City                                            1                 1   \n",
      "\n",
      "                                        Census Tract  BIN  BBL  \n",
      "NTA                                                             \n",
      "Midwood                                            3    3    3  \n",
      "SoHo-TriBeCa-Civic Center-Little Italy             5    5    5  \n",
      "Battery Park City-Lower Manhattan                  9    9    9  \n",
      "Sunset Park West                                  48   47   47  \n",
      "Hunters Point-Sunnyside-West Maspeth              75   74   74  \n",
      "...                                              ...  ...  ...  \n",
      "Midtown-Midtown South                              2    2    2  \n",
      "Williamsburg                                       1    1    1  \n",
      "Central Harlem North-Polo Grounds                  1    1    1  \n",
      "Highbridge                                         1    1    1  \n",
      "Co-op City                                         1    1    1  \n",
      "\n",
      "[79 rows x 25 columns]\n"
     ]
    }
   ],
   "source": [
    "groups = data.groupby('NTA', sort=False).count()\n",
    "print(groups)"
   ]
  }
 ],
 "metadata": {
  "kernelspec": {
   "display_name": "Python 3.8.8 ('base')",
   "language": "python",
   "name": "python3"
  },
  "language_info": {
   "codemirror_mode": {
    "name": "ipython",
    "version": 3
   },
   "file_extension": ".py",
   "mimetype": "text/x-python",
   "name": "python",
   "nbconvert_exporter": "python",
   "pygments_lexer": "ipython3",
   "version": "3.8.8"
  },
  "orig_nbformat": 4,
  "vscode": {
   "interpreter": {
    "hash": "ad2bdc8ecc057115af97d19610ffacc2b4e99fae6737bb82f5d7fb13d2f2c186"
   }
  }
 },
 "nbformat": 4,
 "nbformat_minor": 2
}
