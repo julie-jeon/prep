{
 "cells": [
  {
   "cell_type": "code",
   "execution_count": 128,
   "metadata": {},
   "outputs": [],
   "source": [
    "import datetime as dt\n",
    "from re import I\n",
    "import numpy as np\n",
    "import pandas as pd\n",
    "import matplotlib.pyplot as plt"
   ]
  },
  {
   "cell_type": "code",
   "execution_count": 129,
   "metadata": {},
   "outputs": [
    {
     "name": "stdout",
     "output_type": "stream",
     "text": [
      "1. How many different companies are represented in the data set?\n",
      "439\n"
     ]
    }
   ],
   "source": [
    "# Milestone Action Items\n",
    "# Download the data set about Value of Energy Cost Saving Program for businesses in New York City (under the \"Export\" option, there is a way to retrieve a CSV file). Answer the following questions.\n",
    "\n",
    "# How many different companies are represented in the data set?\n",
    "# What is the total number of jobs created for businesses in Queens?\n",
    "# How many different unique email domains names are there in the data set?\n",
    "# Considering only NTAs with at least 5 listed businesses, what is the average total savings and the total jobs created for each NTA?\n",
    "# Save your result for the previous question as a CSV file.v\n",
    "\n",
    "def read_data():\n",
    "    data = pd.read_csv('Value_of_Energy_Cost_Savings_Program_Savings_for_Businesses_-_FY2020.csv')\n",
    "    return data\n",
    "\n",
    "data = read_data()\n",
    "#print(data)\n",
    "data['Company Name']=data['Company Name'].str.upper()\n",
    "data.groupby('Company Name')\n",
    "counts = data['Company Name'].nunique()\n",
    "print(\"1. How many different companies are represented in the data set?\")\n",
    "print(counts)"
   ]
  },
  {
   "cell_type": "code",
   "execution_count": 130,
   "metadata": {},
   "outputs": [
    {
     "name": "stdout",
     "output_type": "stream",
     "text": [
      "2. What is the total number of jobs created for businesses in Queens?\n",
      "5\n"
     ]
    }
   ],
   "source": [
    "data_queens = pd.DataFrame()\n",
    "data['City'].str.upper()\n",
    "data_queens['isQueens'] = np.where(data['City'].str.contains(\"QUEENS\"),'yes', '')\n",
    "\n",
    "data_queens.to_csv('out.txt', sep='\\t', index=False)\n",
    "queens_count = data_queens.loc[data_queens['isQueens'] == \"yes\"]\n",
    "queens_count = queens_count.reset_index()\n",
    "\n",
    "\n",
    "print(\"2. What is the total number of jobs created for businesses in Queens?\")\n",
    "print(queens_count['isQueens'].count())"
   ]
  },
  {
   "cell_type": "code",
   "execution_count": 131,
   "metadata": {},
   "outputs": [
    {
     "name": "stdout",
     "output_type": "stream",
     "text": [
      "3. How many different unique email domains names are there in the data set?\n",
      "357\n"
     ]
    }
   ],
   "source": [
    "# splitting at '@' into Data frame\n",
    "new = data[\"company email\"].str.partition(\"@\", True)\n",
    "\n",
    "domains = new[2]\n",
    "\n",
    "# removing null values \n",
    "domains.dropna(how ='all', inplace = True)\n",
    "unique_domains = domains.nunique()\n",
    "\n",
    "print(\"3. How many different unique email domains names are there in the data set?\")\n",
    "print(unique_domains)"
   ]
  },
  {
   "cell_type": "code",
   "execution_count": 187,
   "metadata": {},
   "outputs": [
    {
     "name": "stdout",
     "output_type": "stream",
     "text": [
      "4. Considering only NTAs with at least 5 listed businesses, what is the average total savings and the total jobs created for each NTA?\n",
      "                                                 NTA  Average Total Savings  \\\n",
      "0   Battery Park City-Lower Manhattan                 469890.796667           \n",
      "1   Bushwick South                                    26140.455000            \n",
      "2   Carroll Gardens-Columbia Street-Red Hook          24337.390000            \n",
      "3   College Point                                     17159.372857            \n",
      "4   Crown Heights North                               4036.298889             \n",
      "5   DUMBO-Vinegar Hill-Downtown Brooklyn-Boerum Hill  59950.340000            \n",
      "6   East New York                                     48433.093333            \n",
      "7   East Williamsburg                                 13990.626364            \n",
      "8   Greenpoint                                        9753.649286             \n",
      "9   Hunters Point-Sunnyside-West Maspeth              23931.398933            \n",
      "10  Hunts Point                                       39246.016154            \n",
      "11  Manhattanville                                    2760.888889             \n",
      "12  Maspeth                                           6658.283333             \n",
      "13  Mott Haven-Port Morris                            17843.937857            \n",
      "14  Queensbridge-Ravenswood-Long Island City          61830.770625            \n",
      "15  Steinway                                          11227.155714            \n",
      "16  Sunset Park West                                  14316.976875            \n",
      "17  park-cemetery-etc-Brooklyn                        14327.419333            \n",
      "\n",
      "    Total Jobs  \n",
      "0   9           \n",
      "1   10          \n",
      "2   11          \n",
      "3   7           \n",
      "4   9           \n",
      "5   10          \n",
      "6   9           \n",
      "7   11          \n",
      "8   14          \n",
      "9   75          \n",
      "10  13          \n",
      "11  9           \n",
      "12  9           \n",
      "13  14          \n",
      "14  16          \n",
      "15  7           \n",
      "16  48          \n",
      "17  15          \n"
     ]
    }
   ],
   "source": [
    "from ctypes import sizeof\n",
    "import  csv\n",
    "\n",
    "groups = data.groupby('NTA', sort=False).count() \n",
    "print(\"4. Considering only NTAs with at least 5 listed businesses, what is the average total savings and the total jobs created for each NTA?\")\n",
    "\n",
    "\n",
    "NTA_list = pd.DataFrame()\n",
    "\n",
    "# 2) make separate dataframe for data where NTA occurs more than 5 times\n",
    "NTA_list = data[data.groupby('NTA')['NTA'].transform('size').gt(5)]\n",
    "\n",
    "NTA_list = NTA_list.reset_index(drop=True)\n",
    "#NTA_list.to_csv('nta.txt', sep='\\t', index=False)\n",
    "\n",
    "# make separate dataframes for each NTA?\n",
    "NTA_list = NTA_list.groupby('NTA')\n",
    "NTA_list.groups.keys()\n",
    "\n",
    "NTA_grouped = []\n",
    "\n",
    "for key in NTA_list.groups.keys():\n",
    "    NTA_grouped.append(NTA_list.get_group(key))\n",
    "\n",
    "\n",
    "# NTA_grouped.to_csv('nta_groups.txt', sep='\\t', index=False)\n",
    "with open(\"nta_groups\",\"w\") as f:\n",
    "    wr = csv.writer(f,delimiter=\"\\n\")\n",
    "    wr.writerow(NTA_grouped)\n",
    "\n",
    "df = pd.DataFrame()\n",
    "NTA_names = []\n",
    "average_total_savings = []\n",
    "total_jobs = []\n",
    "\n",
    "for i in range(len(NTA_grouped)):\n",
    "    # print(NTA_grouped[i])\n",
    "    df = NTA_grouped[i]\n",
    "    NTA_names.append(df.iloc[0]['NTA'])\n",
    "    average_total_savings.append(df[\"Total Savings\"].mean())\n",
    "    total_jobs.append(len(df))\n",
    "\n",
    "\n",
    "final_answer = pd.DataFrame()\n",
    "final_answer['NTA'] = NTA_names\n",
    "final_answer['Average Total Savings'] = average_total_savings\n",
    "final_answer['Total Jobs'] = total_jobs\n",
    "\n",
    "print(final_answer)    \n"
   ]
  },
  {
   "cell_type": "code",
   "execution_count": null,
   "metadata": {},
   "outputs": [],
   "source": [
    "### Export as CSV ###\n",
    "final_answer.to_csv('final_answer.csv', sep='\\t', index=False)"
   ]
  }
 ],
 "metadata": {
  "kernelspec": {
   "display_name": "Python 3.8.8 ('base')",
   "language": "python",
   "name": "python3"
  },
  "language_info": {
   "codemirror_mode": {
    "name": "ipython",
    "version": 3
   },
   "file_extension": ".py",
   "mimetype": "text/x-python",
   "name": "python",
   "nbconvert_exporter": "python",
   "pygments_lexer": "ipython3",
   "version": "3.8.8"
  },
  "orig_nbformat": 4,
  "vscode": {
   "interpreter": {
    "hash": "ad2bdc8ecc057115af97d19610ffacc2b4e99fae6737bb82f5d7fb13d2f2c186"
   }
  }
 },
 "nbformat": 4,
 "nbformat_minor": 2
}
